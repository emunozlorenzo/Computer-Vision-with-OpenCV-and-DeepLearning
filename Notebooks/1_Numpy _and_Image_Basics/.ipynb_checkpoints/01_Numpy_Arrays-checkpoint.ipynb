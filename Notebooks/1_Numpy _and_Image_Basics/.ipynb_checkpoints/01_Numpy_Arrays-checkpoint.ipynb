{
 "cells": [
  {
   "cell_type": "markdown",
   "id": "simple-london",
   "metadata": {},
   "source": [
    "# Numpy Arrays"
   ]
  },
  {
   "cell_type": "code",
   "execution_count": 39,
   "id": "based-communication",
   "metadata": {},
   "outputs": [],
   "source": [
    "import numpy as np"
   ]
  },
  {
   "cell_type": "code",
   "execution_count": 40,
   "id": "junior-copyright",
   "metadata": {},
   "outputs": [],
   "source": [
    "mylist = [1,2,3]"
   ]
  },
  {
   "cell_type": "code",
   "execution_count": 41,
   "id": "incorporate-complex",
   "metadata": {},
   "outputs": [
    {
     "data": {
      "text/plain": [
       "list"
      ]
     },
     "execution_count": 41,
     "metadata": {},
     "output_type": "execute_result"
    }
   ],
   "source": [
    "type(mylist)"
   ]
  },
  {
   "cell_type": "code",
   "execution_count": 42,
   "id": "dynamic-louisiana",
   "metadata": {},
   "outputs": [],
   "source": [
    "myarray = np.array(mylist)"
   ]
  },
  {
   "cell_type": "code",
   "execution_count": 43,
   "id": "empirical-cardiff",
   "metadata": {},
   "outputs": [
    {
     "data": {
      "text/plain": [
       "numpy.ndarray"
      ]
     },
     "execution_count": 43,
     "metadata": {},
     "output_type": "execute_result"
    }
   ],
   "source": [
    "type(myarray)"
   ]
  },
  {
   "cell_type": "code",
   "execution_count": 44,
   "id": "straight-calculator",
   "metadata": {},
   "outputs": [
    {
     "data": {
      "text/plain": [
       "array([1, 2, 3])"
      ]
     },
     "execution_count": 44,
     "metadata": {},
     "output_type": "execute_result"
    }
   ],
   "source": [
    "myarray"
   ]
  },
  {
   "cell_type": "code",
   "execution_count": 45,
   "id": "alleged-midwest",
   "metadata": {},
   "outputs": [
    {
     "data": {
      "text/plain": [
       "array([0, 1, 2, 3, 4, 5, 6, 7, 8, 9])"
      ]
     },
     "execution_count": 45,
     "metadata": {},
     "output_type": "execute_result"
    }
   ],
   "source": [
    "np.arange(0,10)"
   ]
  },
  {
   "cell_type": "code",
   "execution_count": 46,
   "id": "joined-product",
   "metadata": {},
   "outputs": [
    {
     "data": {
      "text/plain": [
       "array([0. , 0.5, 1. , 1.5, 2. , 2.5, 3. , 3.5, 4. , 4.5, 5. , 5.5, 6. ,\n",
       "       6.5, 7. , 7.5, 8. , 8.5, 9. , 9.5])"
      ]
     },
     "execution_count": 46,
     "metadata": {},
     "output_type": "execute_result"
    }
   ],
   "source": [
    "np.arange(0,10,0.5)"
   ]
  },
  {
   "cell_type": "code",
   "execution_count": 47,
   "id": "ranking-template",
   "metadata": {},
   "outputs": [
    {
     "data": {
      "text/plain": [
       "array([[0., 0., 0., 0., 0.],\n",
       "       [0., 0., 0., 0., 0.],\n",
       "       [0., 0., 0., 0., 0.],\n",
       "       [0., 0., 0., 0., 0.],\n",
       "       [0., 0., 0., 0., 0.]])"
      ]
     },
     "execution_count": 47,
     "metadata": {},
     "output_type": "execute_result"
    }
   ],
   "source": [
    "np.zeros(shape=(5,5))"
   ]
  },
  {
   "cell_type": "code",
   "execution_count": 48,
   "id": "muslim-graham",
   "metadata": {},
   "outputs": [
    {
     "data": {
      "text/plain": [
       "array([[1., 1., 1., 1.],\n",
       "       [1., 1., 1., 1.]])"
      ]
     },
     "execution_count": 48,
     "metadata": {},
     "output_type": "execute_result"
    }
   ],
   "source": [
    "np.ones(shape=(2,4))"
   ]
  },
  {
   "cell_type": "markdown",
   "id": "cognitive-somerset",
   "metadata": {},
   "source": [
    "## Operations"
   ]
  },
  {
   "cell_type": "code",
   "execution_count": 49,
   "id": "productive-destruction",
   "metadata": {},
   "outputs": [
    {
     "data": {
      "text/plain": [
       "array([95, 11, 81, 70, 63, 87, 75,  9, 77, 40])"
      ]
     },
     "execution_count": 49,
     "metadata": {},
     "output_type": "execute_result"
    }
   ],
   "source": [
    "# Create the same random numbers each time through a seed\n",
    "np.random.seed(101)\n",
    "arr = np.random.randint(0,100,10)\n",
    "arr"
   ]
  },
  {
   "cell_type": "code",
   "execution_count": 50,
   "id": "thermal-cursor",
   "metadata": {},
   "outputs": [
    {
     "data": {
      "text/plain": [
       "array([ 4, 63, 40, 60, 92, 64,  5, 12, 93, 40])"
      ]
     },
     "execution_count": 50,
     "metadata": {},
     "output_type": "execute_result"
    }
   ],
   "source": [
    "arr2 = np.random.randint(0,100,10)\n",
    "arr2"
   ]
  },
  {
   "cell_type": "code",
   "execution_count": 51,
   "id": "every-confidence",
   "metadata": {},
   "outputs": [
    {
     "data": {
      "text/plain": [
       "95"
      ]
     },
     "execution_count": 51,
     "metadata": {},
     "output_type": "execute_result"
    }
   ],
   "source": [
    "# Max number in array\n",
    "arr.max()"
   ]
  },
  {
   "cell_type": "code",
   "execution_count": 52,
   "id": "lovely-victim",
   "metadata": {},
   "outputs": [
    {
     "data": {
      "text/plain": [
       "0"
      ]
     },
     "execution_count": 52,
     "metadata": {},
     "output_type": "execute_result"
    }
   ],
   "source": [
    "# Position (index) of the max number in array\n",
    "arr.argmax()"
   ]
  },
  {
   "cell_type": "code",
   "execution_count": 53,
   "id": "matched-clear",
   "metadata": {},
   "outputs": [
    {
     "data": {
      "text/plain": [
       "9"
      ]
     },
     "execution_count": 53,
     "metadata": {},
     "output_type": "execute_result"
    }
   ],
   "source": [
    "# Min number in array\n",
    "arr.min()"
   ]
  },
  {
   "cell_type": "code",
   "execution_count": 54,
   "id": "accepted-subscription",
   "metadata": {},
   "outputs": [
    {
     "data": {
      "text/plain": [
       "7"
      ]
     },
     "execution_count": 54,
     "metadata": {},
     "output_type": "execute_result"
    }
   ],
   "source": [
    "# Position (index) of the min number in array\n",
    "arr.argmin()"
   ]
  },
  {
   "cell_type": "code",
   "execution_count": 55,
   "id": "romance-today",
   "metadata": {},
   "outputs": [
    {
     "data": {
      "text/plain": [
       "60.8"
      ]
     },
     "execution_count": 55,
     "metadata": {},
     "output_type": "execute_result"
    }
   ],
   "source": [
    "# Calculate the average of all the values in array\n",
    "arr.mean()"
   ]
  },
  {
   "cell_type": "code",
   "execution_count": 56,
   "id": "vital-notebook",
   "metadata": {},
   "outputs": [
    {
     "data": {
      "text/plain": [
       "(10,)"
      ]
     },
     "execution_count": 56,
     "metadata": {},
     "output_type": "execute_result"
    }
   ],
   "source": [
    "arr.shape"
   ]
  },
  {
   "cell_type": "code",
   "execution_count": 57,
   "id": "stylish-phase",
   "metadata": {},
   "outputs": [
    {
     "data": {
      "text/plain": [
       "array([[95, 11, 81, 70, 63],\n",
       "       [87, 75,  9, 77, 40]])"
      ]
     },
     "execution_count": 57,
     "metadata": {},
     "output_type": "execute_result"
    }
   ],
   "source": [
    "# Reshape the array\n",
    "arr.reshape((2,5))"
   ]
  },
  {
   "cell_type": "markdown",
   "id": "warming-romania",
   "metadata": {},
   "source": [
    "## Indexing "
   ]
  },
  {
   "cell_type": "code",
   "execution_count": 58,
   "id": "planned-norwegian",
   "metadata": {},
   "outputs": [
    {
     "data": {
      "text/plain": [
       "array([[ 0,  1,  2,  3,  4,  5,  6,  7,  8,  9],\n",
       "       [10, 11, 12, 13, 14, 15, 16, 17, 18, 19],\n",
       "       [20, 21, 22, 23, 24, 25, 26, 27, 28, 29],\n",
       "       [30, 31, 32, 33, 34, 35, 36, 37, 38, 39],\n",
       "       [40, 41, 42, 43, 44, 45, 46, 47, 48, 49],\n",
       "       [50, 51, 52, 53, 54, 55, 56, 57, 58, 59],\n",
       "       [60, 61, 62, 63, 64, 65, 66, 67, 68, 69],\n",
       "       [70, 71, 72, 73, 74, 75, 76, 77, 78, 79],\n",
       "       [80, 81, 82, 83, 84, 85, 86, 87, 88, 89],\n",
       "       [90, 91, 92, 93, 94, 95, 96, 97, 98, 99]])"
      ]
     },
     "execution_count": 58,
     "metadata": {},
     "output_type": "execute_result"
    }
   ],
   "source": [
    "mat = np.arange(0,100).reshape(10,10)\n",
    "mat"
   ]
  },
  {
   "cell_type": "code",
   "execution_count": 59,
   "id": "adverse-coast",
   "metadata": {},
   "outputs": [],
   "source": [
    "row = 5\n",
    "col = 1"
   ]
  },
  {
   "cell_type": "code",
   "execution_count": 60,
   "id": "metallic-sweet",
   "metadata": {},
   "outputs": [
    {
     "data": {
      "text/plain": [
       "51"
      ]
     },
     "execution_count": 60,
     "metadata": {},
     "output_type": "execute_result"
    }
   ],
   "source": [
    "mat[row,col]"
   ]
  },
  {
   "cell_type": "markdown",
   "id": "demonstrated-elder",
   "metadata": {},
   "source": [
    "## Slicing"
   ]
  },
  {
   "cell_type": "code",
   "execution_count": 61,
   "id": "exterior-barrier",
   "metadata": {},
   "outputs": [
    {
     "data": {
      "text/plain": [
       "array([ 1, 11, 21, 31, 41, 51, 61, 71, 81, 91])"
      ]
     },
     "execution_count": 61,
     "metadata": {},
     "output_type": "execute_result"
    }
   ],
   "source": [
    "mat[:,1]"
   ]
  },
  {
   "cell_type": "code",
   "execution_count": 62,
   "id": "opposed-humidity",
   "metadata": {},
   "outputs": [
    {
     "data": {
      "text/plain": [
       "array([20, 21, 22, 23, 24, 25, 26, 27, 28, 29])"
      ]
     },
     "execution_count": 62,
     "metadata": {},
     "output_type": "execute_result"
    }
   ],
   "source": [
    "mat[2,:]"
   ]
  },
  {
   "cell_type": "code",
   "execution_count": 63,
   "id": "colonial-grass",
   "metadata": {},
   "outputs": [
    {
     "data": {
      "text/plain": [
       "array([[ 0,  1,  2,  3],\n",
       "       [10, 11, 12, 13],\n",
       "       [20, 21, 22, 23]])"
      ]
     },
     "execution_count": 63,
     "metadata": {},
     "output_type": "execute_result"
    }
   ],
   "source": [
    "mat[0:3,0:4]"
   ]
  },
  {
   "cell_type": "markdown",
   "id": "looking-screening",
   "metadata": {},
   "source": [
    "## Reassign"
   ]
  },
  {
   "cell_type": "markdown",
   "id": "provincial-kennedy",
   "metadata": {},
   "source": [
    "It can be useful to reassign some image pixels"
   ]
  },
  {
   "cell_type": "code",
   "execution_count": 64,
   "id": "phantom-complaint",
   "metadata": {},
   "outputs": [
    {
     "data": {
      "text/plain": [
       "array([[ 0,  0,  0,  0,  4,  5,  6,  7,  8,  9],\n",
       "       [ 0,  0,  0,  0, 14, 15, 16, 17, 18, 19],\n",
       "       [ 0,  0,  0,  0, 24, 25, 26, 27, 28, 29],\n",
       "       [30, 31, 32, 33, 34, 35, 36, 37, 38, 39],\n",
       "       [40, 41, 42, 43, 44, 45, 46, 47, 48, 49],\n",
       "       [50, 51, 52, 53, 54, 55, 56, 57, 58, 59],\n",
       "       [60, 61, 62, 63, 64, 65, 66, 67, 68, 69],\n",
       "       [70, 71, 72, 73, 74, 75, 76, 77, 78, 79],\n",
       "       [80, 81, 82, 83, 84, 85, 86, 87, 88, 89],\n",
       "       [90, 91, 92, 93, 94, 95, 96, 97, 98, 99]])"
      ]
     },
     "execution_count": 64,
     "metadata": {},
     "output_type": "execute_result"
    }
   ],
   "source": [
    "mynewmat = mat.copy()\n",
    "mynewmat[0:3,0:4] = 0\n",
    "mynewmat"
   ]
  }
 ],
 "metadata": {
  "kernelspec": {
   "display_name": "Python 3",
   "language": "python",
   "name": "python3"
  },
  "language_info": {
   "codemirror_mode": {
    "name": "ipython",
    "version": 3
   },
   "file_extension": ".py",
   "mimetype": "text/x-python",
   "name": "python",
   "nbconvert_exporter": "python",
   "pygments_lexer": "ipython3",
   "version": "3.6.12"
  }
 },
 "nbformat": 4,
 "nbformat_minor": 5
}
